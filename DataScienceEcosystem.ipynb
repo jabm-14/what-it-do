{
 "cells": [
  {
   "cell_type": "markdown",
   "id": "842574cf-48f9-4ef3-b38c-d665077a6fec",
   "metadata": {},
   "source": [
    "# Data Science Tools and Ecosystem"
   ]
  },
  {
   "cell_type": "markdown",
   "id": "30893caf-b3b5-45dc-b91a-3bec9ae7c596",
   "metadata": {},
   "source": [
    "The content of this notebook is about Data Science Tools and Ecosystems."
   ]
  },
  {
   "cell_type": "markdown",
   "id": "282f93b1-2af2-4faa-af7d-5dc676aad3ee",
   "metadata": {},
   "source": [
    "_Objectives:_\n",
    "- Learn how to use markdown\n",
    "- List data scientists' tools\n",
    "- Share jupyter notebooks\n"
   ]
  },
  {
   "cell_type": "markdown",
   "id": "1266579f-d418-463e-929a-704f0f6f4e04",
   "metadata": {},
   "source": [
    "Some of the popular languages that Data Scientists use are:\n",
    "1. Python\n",
    "2. R\n",
    "3. SQL"
   ]
  },
  {
   "cell_type": "markdown",
   "id": "d1452f2d-eefc-4843-91d0-69f5898cd741",
   "metadata": {},
   "source": [
    "Some of the commonly used libraries used by Data Scientists include:\n",
    "1. TensorFlow\n",
    "2. SciPy\n",
    "3. NumPy\n",
    "4. Pandas\n",
    "5. Matplotlib,"
   ]
  },
  {
   "cell_type": "markdown",
   "id": "02c128d9-331d-49d8-944b-c235c5fe9427",
   "metadata": {},
   "source": [
    "|Data Science Tools|\n",
    "|------------------|\n",
    "|Spark             |\n",
    "|Pandas            |\n",
    "|TensorFlow        |"
   ]
  },
  {
   "cell_type": "markdown",
   "id": "fd65d72b-6246-472b-86b2-e55e4450fc12",
   "metadata": {},
   "source": [
    "### Below are a few examples of evaluating arithmetic expressions in Python\n"
   ]
  },
  {
   "cell_type": "code",
   "execution_count": 1,
   "id": "a67024ef-f550-422a-bd04-2c6d5fec61c1",
   "metadata": {},
   "outputs": [
    {
     "data": {
      "text/plain": [
       "17"
      ]
     },
     "execution_count": 1,
     "metadata": {},
     "output_type": "execute_result"
    }
   ],
   "source": [
    "# This a simple arithmetic expression to mutiply then add integers\n",
    "(3*4)+5"
   ]
  },
  {
   "cell_type": "code",
   "execution_count": 2,
   "id": "f6377e35-2b75-4bc5-87e0-e4b47943899a",
   "metadata": {},
   "outputs": [
    {
     "data": {
      "text/plain": [
       "3.3333333333333335"
      ]
     },
     "execution_count": 2,
     "metadata": {},
     "output_type": "execute_result"
    }
   ],
   "source": [
    "# This will convert 200 minutes to hours by diving by 60\n",
    "200/60"
   ]
  },
  {
   "cell_type": "markdown",
   "id": "408c262b-9288-496b-952a-8c1c522a1a33",
   "metadata": {},
   "source": [
    "## Author\n",
    "José Armando Baquedano Martínez "
   ]
  }
 ],
 "metadata": {
  "kernelspec": {
   "display_name": "Python",
   "language": "python",
   "name": "conda-env-python-py"
  },
  "language_info": {
   "codemirror_mode": {
    "name": "ipython",
    "version": 3
   },
   "file_extension": ".py",
   "mimetype": "text/x-python",
   "name": "python",
   "nbconvert_exporter": "python",
   "pygments_lexer": "ipython3",
   "version": "3.7.12"
  }
 },
 "nbformat": 4,
 "nbformat_minor": 5
}
